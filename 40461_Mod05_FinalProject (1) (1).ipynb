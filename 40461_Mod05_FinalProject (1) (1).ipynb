{
 "cells": [
  {
   "cell_type": "markdown",
   "metadata": {
    "collapsed": false
   },
   "source": [
    "# Final Project  \n",
    "\n",
    "Course 40461: Introduction to Python, Unit 2\n",
    "\n",
    "This is an activity based on the Module 4 Lab, which you may have already completed.\n",
    "\n",
    "| **Assignment Requirements** |\n",
    "|:-------------------------------|\n",
    "|This program requires the use of **`print`** output and use of  **`input`**, **`for`**/**`in`** loop, **`if`**, file **`open`**, **`.readline`**, **`.append`**, **`.strip`**, **`len`**. and function **`def`** and **`return`**. The code should also consider using most of the following (`.upper()` or `.lower()`, `.title()`, `print(\"hello\",end=\"\")` `else`, `elif`, `range()`, `while`, `.close()`) |\n",
    "\n",
    "## Program: Element_Quiz  \n",
    "\n",
    "In this program the user enters the name of any 5 of the first 20 Atomic Elements and is given a grade and test report for items correct and incorrect.  \n",
    "\n",
    "### Sample input and output:  \n",
    "\n",
    "```\n",
    "List any 5 of the first 20 elements in the Period table\n",
    "Enter the name of an element: argon\n",
    "Enter the name of an element: chlorine\n",
    "Enter the name of an element: sodium\n",
    "Enter the name of an element: argon\n",
    "argon was already entered          <--no duplicates allowed\n",
    "Enter the name of an element: helium\n",
    "Enter the name of an element: gold\n",
    "\n",
    "80 % correct\n",
    "Found: Argon Chlorine Sodium Helium \n",
    "Not Found: Gold \n",
    "```  \n",
    "\n",
    "### Create get_names() Function to collect input of 5 unique element names  \n",
    "\n",
    "- The function accepts no arguments and returns a list of 5 input strings (element names)  \n",
    "- define a list to hold the input\n",
    "- collect input of a element name  \n",
    "- if input it is **not** already in the list add the input to the list  \n",
    "- don't allow empty strings as input  \n",
    "- once 5 unique inputs **return** the list  \n",
    "\n",
    "### Create the Program flow  \n",
    "\n",
    "#### Import the file into the Jupyter Notebook environment   \n",
    "\n",
    "- Use `!curl` to download https://raw.githubusercontent.com/MicrosoftLearning/intropython/master/elements1_20.txt\" as `elements1_20.txt`  \n",
    "- Open the file with the first 20 elements  \n",
    "- Read one line at a time to get element names, remove any whitespace (spaces, newlines) and save each element name, as lowercase, into a list  \n",
    "\n",
    "####  Call the get_names() function  \n",
    "\n",
    "- The return value will be the quiz responses list  \n",
    "\n",
    "#### check if responses are in the list of elements  \n",
    "\n",
    "Iterate through 5 responses  \n",
    "\n",
    "- Compare each response to the list of 20 elements\n",
    "  - Any response that is in the list of 20 elements is correct and should be added to a list of correct responses  \n",
    "  - If not in the list of 20 elements then add to a list of incorrect responses  \n",
    "\n",
    "#### calculate the % correct  \n",
    "\n",
    " - Find the the number of items in the correct responses and divide by 5, this will result in answers like 1.0, .8, .6,...  \n",
    " - To get the % multiple the calculated answer above by 100, this will result in answers like 100, 80, 60...  \n",
    " - *Hint: instead of dividing by 5 and then multiplying by 100, the number of correct responses can be multiplied by 20*  \n",
    "\n",
    "#### Print output  \n",
    "\n",
    "- Print the Score % right  \n",
    "- Print each of the correct responses  \n",
    "- Print each of the incorrect responses  \n",
    "\n",
    "### Create Element_Quiz, then paste the code on a submission page.\n",
    "\n"
   ]
  },
  {
   "cell_type": "code",
   "execution_count": 9,
   "metadata": {
    "cocalc": {
     "outputs": {
      "1": {
       "name": "input",
       "opts": {
        "password": false,
        "prompt": "Enter the name of an element: "
       },
       "output_type": "stream",
       "value": "argon"
      },
      "2": {
       "name": "input",
       "opts": {
        "password": false,
        "prompt": "Enter the name of an element: "
       },
       "output_type": "stream",
       "value": "chlorine"
      },
      "3": {
       "name": "input",
       "opts": {
        "password": false,
        "prompt": "Enter the name of an element: "
       },
       "output_type": "stream",
       "value": "sodium"
      },
      "4": {
       "name": "input",
       "opts": {
        "password": false,
        "prompt": "Enter the name of an element: "
       },
       "output_type": "stream",
       "value": "argon"
      },
      "6": {
       "name": "input",
       "opts": {
        "password": false,
        "prompt": "Enter the name of an element: "
       },
       "output_type": "stream",
       "value": "helium"
      },
      "7": {
       "name": "input",
       "opts": {
        "password": false,
        "prompt": "Enter the name of an element: "
       },
       "output_type": "stream",
       "value": "gold"
      }
     }
    },
    "collapsed": false
   },
   "outputs": [
    {
     "name": "stdout",
     "output_type": "stream",
     "text": [
      "List any 5 of the first 20 elements in the Period table\n"
     ]
    },
    {
     "name": "stdout",
     "output_type": "stream",
     "text": "Enter the name of an element:  argon"
    },
    {
     "name": "stdout",
     "output_type": "stream",
     "text": "Enter the name of an element:  chlorine"
    },
    {
     "name": "stdout",
     "output_type": "stream",
     "text": "Enter the name of an element:  sodium"
    },
    {
     "name": "stdout",
     "output_type": "stream",
     "text": "Enter the name of an element:  argon"
    },
    {
     "name": "stdout",
     "output_type": "stream",
     "text": [
      "argon was already entered          <-------- no duplicates\n"
     ]
    },
    {
     "name": "stdout",
     "output_type": "stream",
     "text": "Enter the name of an element:  helium"
    },
    {
     "name": "stdout",
     "output_type": "stream",
     "text": "Enter the name of an element:  gold"
    },
    {
     "name": "stdout",
     "output_type": "stream",
     "text": [
      "80.0 % correct\n",
      "Found:   Argon Chlorine Sodium Helium  \n",
      "\n",
      "Not Found:   Gold "
     ]
    }
   ],
   "source": [
    "# [] create Element_Quiz\n",
    "x = \"\"\"Hydrogen\n",
    "Helium\n",
    "Lithium\n",
    "Beryllium\n",
    "Boron\n",
    "Carbon\n",
    "Nitrogen\n",
    "Oxygen\n",
    "Fluorine\n",
    "Neon\n",
    "Sodium\n",
    "Magnesium\n",
    "Aluminum\n",
    "Silicon\n",
    "Phosphorus\n",
    "Sulfur\n",
    "Chlorine\n",
    "Argon\n",
    "Potassium\n",
    "Calcium\"\"\"\n",
    "allElements = x.split(\"\\n\")\n",
    "def get_names():\n",
    "    print(\"List any 5 of the first 20 elements in the Period table\")\n",
    "    inputList = []\n",
    "    while len(inputList) < 5:\n",
    "        inputTemp = input(\"Enter the name of an element: \")\n",
    "        if inputTemp.capitalize() in inputList:\n",
    "            print(inputTemp + \" was already entered          <-------- no duplicates\")\n",
    "        else:\n",
    "            inputList.append(inputTemp.capitalize())\n",
    "    return inputList\n",
    "inputList = get_names()\n",
    "notFound = []\n",
    "found = []\n",
    "temp = 0\n",
    "for element in inputList:\n",
    "    if element in allElements:\n",
    "        temp += 1\n",
    "        found.append(element)\n",
    "    else:\n",
    "        notFound.append(element)\n",
    "correct = (temp/5)*100\n",
    "print(str(correct) + \" % correct\")\n",
    "print(\"Found: \", end = \"  \")\n",
    "for x in found:\n",
    "    print(x, end = \" \")\n",
    "print(\" \\n\")\n",
    "print(\"Not Found: \", end = \"  \")\n",
    "for x in notFound:\n",
    "    print(x, end = \" \")"
   ]
  },
  {
   "cell_type": "raw",
   "metadata": {
    "collapsed": false
   },
   "source": [
   ]
  },
  {
   "cell_type": "markdown",
   "metadata": {
    "collapsed": false
   },
   "source": [
    "[Terms of use](http://go.microsoft.com/fwlink/?LinkID=206977) &nbsp; [Privacy & cookies](https://go.microsoft.com/fwlink/?LinkId=521839) &nbsp; © 2017 Microsoft"
   ]
  }
 ],
 "metadata": {
  "anaconda-cloud": {
  },
  "kernelspec": {
   "display_name": "Python 3 (system-wide)",
   "language": "python",
   "metadata": {
    "cocalc": {
     "description": "Python 3 programming language",
     "priority": 100,
     "url": "https://www.python.org/"
    }
   },
   "name": "python3",
   "resource_dir": "/ext/jupyter/kernels/python3"
  },
  "language_info": {
   "codemirror_mode": {
    "name": "ipython",
    "version": 3
   },
   "file_extension": ".py",
   "mimetype": "text/x-python",
   "name": "python",
   "nbconvert_exporter": "python",
   "pygments_lexer": "ipython3",
   "version": "3.8.10"
  }
 },
 "nbformat": 4,
 "nbformat_minor": 4
}